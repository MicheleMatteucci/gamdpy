{
 "cells": [
  {
   "cell_type": "markdown",
   "id": "39798053e938702d",
   "metadata": {
    "collapsed": false,
    "jupyter": {
     "outputs_hidden": false
    }
   },
   "source": [
    "# My first simulation\n",
    "\n",
    "As introduction to the `gamdpy` package let us setting up a simulation\n",
    "of a Lennard-Jones FCC crystal in the constant $NVT$ ensemble.\n",
    "For a short summary, see the [minimal.py](../examples/minimal.py) example script. Also, the line `sim = gp.get_default_simulation()` will create a simulation object similar to the below.\n",
    "\n",
    "If `gamdpy` is installed correctly, the following package should be imported without any errors. It is recommended to import the package as `gp`."
   ]
  },
  {
   "cell_type": "code",
   "execution_count": null,
   "id": "fdbe2ed79de5260f",
   "metadata": {
    "ExecuteTime": {
     "end_time": "2025-05-09T07:52:50.893687Z",
     "start_time": "2025-05-09T07:52:50.372428Z"
    }
   },
   "outputs": [],
   "source": [
    "import gamdpy as gp"
   ]
  },
  {
   "cell_type": "markdown",
   "id": "272994b9cf64bd48",
   "metadata": {},
   "source": [
    "We will also import NumPy for numerical calculations and Matplotlib for plotting."
   ]
  },
  {
   "cell_type": "code",
   "execution_count": null,
   "id": "4847c36563bf71ed",
   "metadata": {
    "ExecuteTime": {
     "end_time": "2025-05-09T07:52:50.905450Z",
     "start_time": "2025-05-09T07:52:50.903415Z"
    }
   },
   "outputs": [],
   "source": [
    "import numpy as np  # For numerical operations\n",
    "import matplotlib.pyplot as plt  # For plotting"
   ]
  },
  {
   "cell_type": "markdown",
   "id": "8a72b43d82522780",
   "metadata": {},
   "source": [
    "## Initial particle positions\n",
    "\n",
    "We wish to set up a configuration of a FCC lattice with $8 \\times 8 \\times 8$ unit cells, with a density of $\\rho = 0.973$. First we create an empty configuration object."
   ]
  },
  {
   "cell_type": "code",
   "execution_count": null,
   "id": "eca912f8cf53045",
   "metadata": {
    "ExecuteTime": {
     "end_time": "2025-05-09T07:52:50.990945Z",
     "start_time": "2025-05-09T07:52:50.989542Z"
    }
   },
   "outputs": [],
   "source": [
    "configuration = gp.Configuration(D=3)"
   ]
  },
  {
   "cell_type": "markdown",
   "id": "d5d79c20db8a9b9e",
   "metadata": {},
   "source": [
    "Information for a few crystal unit cells are avalible with the `rumdpy` package. For example, the FCC unit cell is stored as `rp.unit_cells.FCC`."
   ]
  },
  {
   "cell_type": "code",
   "execution_count": null,
   "id": "b39d89cc213277c8",
   "metadata": {
    "ExecuteTime": {
     "end_time": "2025-05-09T07:52:51.038856Z",
     "start_time": "2025-05-09T07:52:51.035164Z"
    }
   },
   "outputs": [],
   "source": [
    "gp.unit_cells.FCC"
   ]
  },
  {
   "cell_type": "markdown",
   "id": "12ee7e31dbba7918",
   "metadata": {},
   "source": [
    "We use the `make_lattice` method to assign positions and a simulation box to the  configuration object."
   ]
  },
  {
   "cell_type": "code",
   "execution_count": null,
   "id": "f2bc351e-3578-4f51-b786-71e845bd07d4",
   "metadata": {
    "ExecuteTime": {
     "end_time": "2025-05-09T07:52:51.140024Z",
     "start_time": "2025-05-09T07:52:51.132909Z"
    }
   },
   "outputs": [],
   "source": [
    "# Setup configuration: FCC Lattice\n",
    "configuration.make_lattice(\n",
    "    unit_cell=gp.unit_cells.FCC,\n",
    "    cells=[8, 8, 8],\n",
    "    rho=0.973\n",
    ")"
   ]
  },
  {
   "cell_type": "markdown",
   "id": "8bfbc6d96f2080d4",
   "metadata": {},
   "source": [
    "The positions can be accessed with `['r']`. All vector properties, like the positions, are NumPy arrays."
   ]
  },
  {
   "cell_type": "code",
   "execution_count": null,
   "id": "c48e7dffc54f7b62",
   "metadata": {
    "ExecuteTime": {
     "end_time": "2025-05-09T07:52:51.192970Z",
     "start_time": "2025-05-09T07:52:51.190555Z"
    }
   },
   "outputs": [],
   "source": [
    "positions = configuration['r']\n",
    "type(positions)"
   ]
  },
  {
   "cell_type": "markdown",
   "id": "8fa2ef37792d3364",
   "metadata": {},
   "source": [
    "To confirm that the positions are as expected, we can visualize the configuration using Matplotlib. "
   ]
  },
  {
   "cell_type": "code",
   "execution_count": null,
   "id": "3c1f34c579af36ab",
   "metadata": {
    "ExecuteTime": {
     "end_time": "2025-05-09T07:52:51.458800Z",
     "start_time": "2025-05-09T07:52:51.284136Z"
    }
   },
   "outputs": [],
   "source": [
    "# Make 3D plot using matplotlib\n",
    "fig = plt.figure()\n",
    "ax = fig.add_subplot(111, projection='3d')\n",
    "ax.set_title('Initial configuration')\n",
    "ax.scatter(positions[:,0], positions[:,1], positions[:,2])\n",
    "ax.set_xlabel('x')\n",
    "ax.set_ylabel('y')\n",
    "ax.set_zlabel('z')\n",
    "plt.show()"
   ]
  },
  {
   "cell_type": "markdown",
   "id": "686d719eba828b28",
   "metadata": {},
   "source": [
    "The configuration object also contains information about the simulation box. The box lengths can be accessed with the `lengths` attribute."
   ]
  },
  {
   "cell_type": "code",
   "execution_count": null,
   "id": "16d0f453d82aaa29",
   "metadata": {
    "ExecuteTime": {
     "end_time": "2025-05-09T07:52:51.483729Z",
     "start_time": "2025-05-09T07:52:51.481408Z"
    }
   },
   "outputs": [],
   "source": [
    "configuration.simbox.lengths  # Box lengths"
   ]
  },
  {
   "cell_type": "markdown",
   "id": "f283a4b3544c0a76",
   "metadata": {},
   "source": [
    "## Masses and initial velocities\n",
    "\n",
    "We set all particle masses to one (the value is broadcast to all particles)."
   ]
  },
  {
   "cell_type": "code",
   "execution_count": null,
   "id": "813a39221147cfa2",
   "metadata": {
    "ExecuteTime": {
     "end_time": "2025-05-09T07:52:51.538689Z",
     "start_time": "2025-05-09T07:52:51.537121Z"
    }
   },
   "outputs": [],
   "source": [
    "configuration['m'] = 1.0  # Set all masses to 1.0"
   ]
  },
  {
   "cell_type": "markdown",
   "id": "fab961ce1c4b4678",
   "metadata": {},
   "source": [
    "Note that `configuration['m']` refer to an NumPy array. For convenience, we above used a `float` to set all masses to the same value. This value will automatically be broadcast to all particles."
   ]
  },
  {
   "cell_type": "code",
   "execution_count": null,
   "id": "b1b6ea40a14a352a",
   "metadata": {
    "ExecuteTime": {
     "end_time": "2025-05-09T07:52:51.588263Z",
     "start_time": "2025-05-09T07:52:51.586281Z"
    }
   },
   "outputs": [],
   "source": [
    "type(configuration['m'])  # configuration['m'] is a NumPy array"
   ]
  },
  {
   "cell_type": "markdown",
   "id": "cb081d5657bbecc6",
   "metadata": {},
   "source": [
    "After masses are set, we can assign random velocities corresponding to an initial kinetic temperature $T = 0.7$."
   ]
  },
  {
   "cell_type": "code",
   "execution_count": null,
   "id": "cba45546423ba6f6",
   "metadata": {
    "ExecuteTime": {
     "end_time": "2025-05-09T07:52:51.642217Z",
     "start_time": "2025-05-09T07:52:51.639891Z"
    }
   },
   "outputs": [],
   "source": [
    "temperature = 0.7\n",
    "configuration.randomize_velocities(temperature=temperature)"
   ]
  },
  {
   "cell_type": "markdown",
   "id": "cbb4cc11d857168d",
   "metadata": {},
   "source": [
    "To confirm that the initial velocity distribution is as expected, we can compare it the the theoretical Maxwell-Boltzmann distribution."
   ]
  },
  {
   "cell_type": "code",
   "execution_count": null,
   "id": "91f8fbcd8b81050b",
   "metadata": {
    "ExecuteTime": {
     "end_time": "2025-05-09T07:52:51.820415Z",
     "start_time": "2025-05-09T07:52:51.697766Z"
    }
   },
   "outputs": [],
   "source": [
    "plt.figure()\n",
    "# Histogram of particle speeds\n",
    "vel = configuration['v']\n",
    "speeds = np.linalg.norm(vel, axis=1)\n",
    "bins = np.linspace(0, 5, 25)\n",
    "plt.hist(speeds, bins=bins, density=True, label='Simulation')\n",
    "# Theoretical Maxwell-Boltzmann distribution\n",
    "v = np.linspace(0, 5, 100)\n",
    "maxwell_boltzmann = (2*np.pi*temperature)**(-3/2)*4*np.pi*v**2*np.exp(-v**2/(2*temperature))\n",
    "plt.plot(v, maxwell_boltzmann, label='Maxwell-Boltzmann', color='r')\n",
    "# Plot settings\n",
    "plt.xlabel(r'Particle speeds, $|v|$')\n",
    "plt.ylabel(r'Probability density, $P(|v|)$')\n",
    "plt.xlim(0, None)\n",
    "plt.legend()\n",
    "plt.show()"
   ]
  },
  {
   "cell_type": "markdown",
   "id": "14e8e0d8fd2046c2",
   "metadata": {},
   "source": [
    "## Pair potential\n",
    "Next, we set up the Lennard-Jones pair potential. We use the 12-6 Lennard-Jones potential\n",
    "\n",
    "$$\n",
    "  v_\\infty(r) = 4\\varepsilon \\left[\\left(\\frac{\\sigma}{r}\\right)^{12} - \\left(\\frac{\\sigma}{r}\\right)^{6}\\right]\n",
    "$$\n",
    "\n",
    "(the substript refer to a \"truncation\" at $\\infty$). Here $\\sigma$ (`sigma`) is length, and $\\varepsilon$ (`epsilon`) is an energy. We will use Lennard-Jones units, where $\\sigma = 1$ and $\\varepsilon = 1$.\n",
    "\n",
    "Several pair potentials functions are implemented in `gamdpy`, and the above 12-6 Lennard-Jones potential is implemented as `gp.LJ_12_6_sigma_epsilon`. This is a Python function that takes distances, parameters as input and returns the potential energy, the force and the second derivative of the potential energy.\n",
    "\n",
    "Let us confirm values are as expected in the minimum of the potential:\n",
    "\n",
    "\\begin{align}\n",
    "  r_{min} &= 2^{1/6} \\\\\n",
    "  v(r_{min}) &= -\\varepsilon \\\\\n",
    "  f(r_{min}) &= 0 \\\\\n",
    "  \\left.\\frac{d^2v}{dr^2}\\right|_{r_{min}} &= (624\\cdot2^{-7/3}-168\\cdot2^{-4/3})\\frac{\\varepsilon}{\\sigma^2} \\simeq 57.146\\frac{\\varepsilon}{\\sigma^2}\n",
    "\\end{align}\n"
   ]
  },
  {
   "cell_type": "code",
   "execution_count": null,
   "id": "fe824ac1e21e981",
   "metadata": {
    "ExecuteTime": {
     "end_time": "2025-05-09T07:52:51.840672Z",
     "start_time": "2025-05-09T07:52:51.837858Z"
    }
   },
   "outputs": [],
   "source": [
    "pair_func = gp.LJ_12_6_sigma_epsilon  # Pair potential function\n",
    "r_min = 2**(1/6)\n",
    "u_min, f_min, curvature_min = pair_func(r_min, (1.0, 1.0, np.inf))\n",
    "u_min, f_min, curvature_min"
   ]
  },
  {
   "cell_type": "markdown",
   "id": "48ed360ea8a7b0c2",
   "metadata": {},
   "source": [
    "\n",
    "To allow for a $O(N)$ algorithm for force calculations, we truncate the pair potential at radius of $r_c = 2.5\\sigma$ (`cutoff`). The potential is shifted to zero at the cutoff radius, so the actual potential is\n",
    "\n",
    "$$\n",
    "  v(r) = v_\\infty(r) - v_\\infty(r_c)\n",
    "$$\n",
    "\n",
    "For this, we can use `rp.apply_shifted_potential_cutoff` to modify the pair potential."
   ]
  },
  {
   "cell_type": "code",
   "execution_count": null,
   "id": "a01cea8854dcfd66",
   "metadata": {
    "ExecuteTime": {
     "end_time": "2025-05-09T07:52:51.896800Z",
     "start_time": "2025-05-09T07:52:51.894927Z"
    }
   },
   "outputs": [],
   "source": [
    "pair_func = gp.apply_shifted_potential_cutoff(gp.LJ_12_6_sigma_epsilon)"
   ]
  },
  {
   "cell_type": "markdown",
   "id": "e09505ebb8d74724",
   "metadata": {},
   "source": [
    "Let us plot the pair potential, so confirm that it looks as we expect."
   ]
  },
  {
   "cell_type": "code",
   "execution_count": null,
   "id": "ecd5a40e2dab39f7",
   "metadata": {
    "ExecuteTime": {
     "end_time": "2025-05-09T07:52:52.420491Z",
     "start_time": "2025-05-09T07:52:51.947804Z"
    }
   },
   "outputs": [],
   "source": [
    "sigma, epsilon, cutoff = 1.0, 1.0, 2.5\n",
    "pair_distances = np.linspace(0.95, 3.0, 128)\n",
    "pair_energies = [pair_func(dist, [sigma, epsilon, cutoff])[0] for dist in pair_distances]\n",
    "\n",
    "plt.figure()\n",
    "plt.plot(pair_distances, pair_energies)\n",
    "plt.xlabel(r'Pair distance, r')\n",
    "plt.ylabel(r'Pair energy, $v(r)$')\n",
    "plt.show()"
   ]
  },
  {
   "cell_type": "markdown",
   "id": "e997fab41eea0a32",
   "metadata": {},
   "source": [
    "We can now create an interaction objects using this pair potential function we made."
   ]
  },
  {
   "cell_type": "code",
   "execution_count": null,
   "id": "7bf0bd18026a4321",
   "metadata": {
    "ExecuteTime": {
     "end_time": "2025-05-09T07:52:52.438901Z",
     "start_time": "2025-05-09T07:52:52.436908Z"
    }
   },
   "outputs": [],
   "source": [
    "pair_pot = gp.PairPotential(pair_func, params=[sigma, epsilon, cutoff], max_num_nbs=1000)"
   ]
  },
  {
   "cell_type": "markdown",
   "id": "f441989eba2b5afc",
   "metadata": {},
   "source": [
    "Finally, we create a list will all the interactions in our simulations. In this simulation, we only have one, but later we may want to include more like bonds, walls, or gravity."
   ]
  },
  {
   "cell_type": "code",
   "execution_count": null,
   "id": "eb9766512348e5ff",
   "metadata": {
    "ExecuteTime": {
     "end_time": "2025-05-09T07:52:52.493035Z",
     "start_time": "2025-05-09T07:52:52.491154Z"
    }
   },
   "outputs": [],
   "source": [
    "interactions = [pair_pot, ]"
   ]
  },
  {
   "cell_type": "markdown",
   "id": "4fb178da11418e73",
   "metadata": {},
   "source": [
    "## Integrator\n",
    "\n",
    "Next, create an integrator object. These are available in the submodule `gamdpy.integrators`.\n",
    "Here, we chose to use and implementation of the Nosé-Hoover thermostat discretion using the Leap-Frog scheme (others are available).\n",
    "We set a time-step of $dt=0.005$ and a thermostat relaxation time to $\\tau = 0.2$ (both in Lennard-Jones units)."
   ]
  },
  {
   "cell_type": "code",
   "execution_count": null,
   "id": "416ac50cfb432a21",
   "metadata": {
    "ExecuteTime": {
     "end_time": "2025-05-09T07:52:52.795890Z",
     "start_time": "2025-05-09T07:52:52.545096Z"
    }
   },
   "outputs": [],
   "source": [
    "# Setup integrator: Nosé-Hoover NVT, Leap-frog algorithm\n",
    "integrator = gp.integrators.NVT(temperature=temperature, tau=0.2, dt=0.005)"
   ]
  },
  {
   "cell_type": "markdown",
   "id": "d756518abb2b8422",
   "metadata": {},
   "source": [
    "## Runtime actions\n",
    "We typically wants to do some actions during the simulations. Below we specify that we want to store configurations (particle positions, velocities, ...).\n",
    "\n",
    "* The `gp.ConfigurationSaver` does this using a logarithmic timescale in each timeblock.\n",
    "* The `gp.ScalarSaver` save scalar properties like energy every `steps_between_output=16` timestep.\n",
    "* During long-time simulations, there might be a drift of the total momentum due to floating point rounding erros. Thus, the `gp.MomentumReset` reset the total momentum every `steps_between_reset=100` timestep. All the runtime actions are collected in a list."
   ]
  },
  {
   "cell_type": "code",
   "execution_count": null,
   "id": "8b77075a994d96f5",
   "metadata": {
    "ExecuteTime": {
     "end_time": "2025-05-09T07:52:52.814447Z",
     "start_time": "2025-05-09T07:52:52.812387Z"
    }
   },
   "outputs": [],
   "source": [
    "runtime_actions = [\n",
    "    gp.ConfigurationSaver(),\n",
    "    gp.ScalarSaver(steps_between_output=16),\n",
    "    gp.MomentumReset(steps_between_reset=100),\n",
    "]"
   ]
  },
  {
   "cell_type": "markdown",
   "id": "6f7755310cb229a6",
   "metadata": {},
   "source": [
    "\n",
    "## The Simulation object\n",
    "\n",
    "We now have all the components to set up a simulation object.\n",
    "\n",
    "* An configuration object (particle positions, velocities, masses, ...).\n",
    "* A list of interactions (here the Lennard-Jones potential).\n",
    "* An integrator object (here the Nosé-Hoover thermostat).\n",
    "* A list of runtime actions\n",
    "\n",
    "For the simulation object we also specify that we want `num_timeblocks=32` time blocks of `steps_per_timeblock=1024` steps. We also specify that we want to store the simulation data in `storage=memory`."
   ]
  },
  {
   "cell_type": "code",
   "execution_count": null,
   "id": "b32d06aec385921a",
   "metadata": {
    "ExecuteTime": {
     "end_time": "2025-05-09T07:52:54.328544Z",
     "start_time": "2025-05-09T07:52:52.867162Z"
    }
   },
   "outputs": [],
   "source": [
    "# Setup Simulation\n",
    "sim = gp.Simulation(configuration, interactions, integrator, runtime_actions,\n",
    "                    num_timeblocks=32,\n",
    "                    steps_per_timeblock=1024,\n",
    "                    storage='memory')"
   ]
  },
  {
   "cell_type": "markdown",
   "id": "a70af1e0ce3e03af",
   "metadata": {},
   "source": [
    "**Heads-up**: Data can be stored to the disk for later analysis. This is done by changing `storage='memory'` to something like `storage='LJ_T0.70.h5'` (data is stored in the h5 format)."
   ]
  },
  {
   "cell_type": "markdown",
   "id": "825e5830d1317551",
   "metadata": {},
   "source": [
    "## Running the simulation\n",
    "\n",
    "Finally, we run the simulation using the `sim.run_timeblocs` iterator that will loop over all the timeblocs.\n",
    "Below we print the status of the simulation after each timeblock."
   ]
  },
  {
   "cell_type": "code",
   "execution_count": null,
   "id": "7c705329b8979a50",
   "metadata": {
    "ExecuteTime": {
     "end_time": "2025-05-09T07:52:55.831142Z",
     "start_time": "2025-05-09T07:52:54.344989Z"
    }
   },
   "outputs": [],
   "source": [
    "for timeblock in sim.run_timeblocks():\n",
    "        print(sim.status(per_particle=True))\n",
    "print(sim.summary())"
   ]
  },
  {
   "cell_type": "markdown",
   "id": "771491a9526efd8",
   "metadata": {},
   "source": [
    "The sim methods prints some basic information after each timeblock and summary.\n",
    "The output line `Extra time 1.st block ...` indicate that the first timeblock took significant longer than the remaining timeblocks.\n",
    "This is due to the just in time (JIT) compilation of the Python code to run effectively on GPU's.\n",
    "\n",
    "## Analysis\n",
    "\n",
    "We can now analyze the simulation data. Below we extract some thermodynamic quantities stored in the simulation object (more are stored)."
   ]
  },
  {
   "cell_type": "code",
   "execution_count": null,
   "id": "3db65137c4f731de",
   "metadata": {
    "ExecuteTime": {
     "end_time": "2025-05-09T07:52:55.974424Z",
     "start_time": "2025-05-09T07:52:55.971622Z"
    }
   },
   "outputs": [],
   "source": [
    "# Extract potential energy, virial and kinetic energy\n",
    "U, W, K = gp.extract_scalars(sim.output, ['U', 'W', 'K'])\n",
    "type(U)"
   ]
  },
  {
   "cell_type": "markdown",
   "id": "3141dcd71b41bfcb",
   "metadata": {},
   "source": [
    "The variables `U`, `W` and `K` are NumPy arrays with the potential energy, virial and kinetic energy, respectively, for selected timesteps. The number of stored timestep can be found with `len(U)`."
   ]
  },
  {
   "cell_type": "code",
   "execution_count": null,
   "id": "f7c1efeb15c7234f",
   "metadata": {
    "ExecuteTime": {
     "end_time": "2025-05-09T07:52:56.034373Z",
     "start_time": "2025-05-09T07:52:56.032054Z"
    }
   },
   "outputs": [],
   "source": [
    "len(U)"
   ]
  },
  {
   "cell_type": "markdown",
   "id": "ca1fb2d301660787",
   "metadata": {},
   "source": [
    "The steps between each output can be found with"
   ]
  },
  {
   "cell_type": "code",
   "execution_count": null,
   "id": "94569b026ed37abf",
   "metadata": {
    "ExecuteTime": {
     "end_time": "2025-05-09T07:52:56.090128Z",
     "start_time": "2025-05-09T07:52:56.087800Z"
    }
   },
   "outputs": [],
   "source": [
    "sim.output.attrs[\"steps_between_output\"]"
   ]
  },
  {
   "cell_type": "markdown",
   "id": "b2b9bbc3769cf520",
   "metadata": {},
   "source": [
    "Below we compute the times related to when the scalar quantities were stored (in Lennard-Jones units)."
   ]
  },
  {
   "cell_type": "code",
   "execution_count": null,
   "id": "2fa6ea65ca92f5f0",
   "metadata": {
    "ExecuteTime": {
     "end_time": "2025-05-09T07:52:56.147613Z",
     "start_time": "2025-05-09T07:52:56.145707Z"
    }
   },
   "outputs": [],
   "source": [
    "dt = sim.integrator.dt  # Time step\n",
    "time = np.arange(len(U)) * dt * sim.output.attrs[\"steps_between_output\"]  # Time array"
   ]
  },
  {
   "cell_type": "markdown",
   "id": "c1564e3c98f831d7",
   "metadata": {},
   "source": [
    "We can use Matplotlib to plot the potential energy per particle as a function of time. We use `sim.configuration.N` to get the number of particles."
   ]
  },
  {
   "cell_type": "code",
   "execution_count": null,
   "id": "899e99f81dcb7751",
   "metadata": {
    "ExecuteTime": {
     "end_time": "2025-05-09T07:52:56.268771Z",
     "start_time": "2025-05-09T07:52:56.202462Z"
    }
   },
   "outputs": [],
   "source": [
    "N = sim.configuration.N  # Number of particles\n",
    "\n",
    "plt.figure()\n",
    "plt.plot(time, U/N)\n",
    "plt.xlabel(r'Time, $t$ [$\\sigma\\sqrt{m/\\varepsilon}$]')  # Time in LJ units\n",
    "plt.ylabel(r'Potential energy per particle, $U$ [$\\varepsilon$]')  # Energy in LJ units\n",
    "plt.xlim(0, None)\n",
    "plt.show()"
   ]
  },
  {
   "cell_type": "markdown",
   "id": "32c872d6a4d0e40d",
   "metadata": {},
   "source": [
    "The first part of the simulation show large fluctuations in the potential energy since the system is not yet equilibrated (it was setup in a perfect crystal). Since we are not interested in the equilibration phase, we can discard the fir st timeblock by using the `first_block=1` argument in the `extract_scalars` function. We then need to recalculate the time array."
   ]
  },
  {
   "cell_type": "code",
   "execution_count": null,
   "id": "8fc00eb8a9982271",
   "metadata": {
    "ExecuteTime": {
     "end_time": "2025-05-09T07:52:56.363833Z",
     "start_time": "2025-05-09T07:52:56.289115Z"
    }
   },
   "outputs": [],
   "source": [
    "U, W, K = gp.extract_scalars(sim.output, ['U', 'W', 'K'], first_block=1)\n",
    "time = np.arange(len(U)) * dt * sim.output.attrs[\"steps_between_output\"]\n",
    "\n",
    "plt.figure()\n",
    "plt.plot(time, U/N, label='Potential energy per particle')\n",
    "plt.xlabel(r'Time, $t$ [$\\sigma\\sqrt{m/\\varepsilon}$]')  # Time in LJ units\n",
    "plt.ylabel(r'Energy [$\\varepsilon$]')  # Energy in LJ units\n",
    "plt.legend()\n",
    "plt.show()"
   ]
  },
  {
   "cell_type": "markdown",
   "id": "3100c824223f3433",
   "metadata": {},
   "source": [
    "After we have ensured that we have an equilibrium simulation, the expectation value of the potential energy per particle can be found with the `np.mean` NumPy function."
   ]
  },
  {
   "cell_type": "code",
   "execution_count": null,
   "id": "84cdd1e4317e81ca",
   "metadata": {
    "ExecuteTime": {
     "end_time": "2025-05-09T07:52:56.387591Z",
     "start_time": "2025-05-09T07:52:56.385247Z"
    }
   },
   "outputs": [],
   "source": [
    "np.mean(U/N)"
   ]
  },
  {
   "cell_type": "markdown",
   "id": "b67418bdee40433a",
   "metadata": {},
   "source": [
    "In an $NVT$ simulation the pressure is often an important quantity, but is not stored in the simulation data directly. The pressure can be calculated from the virial, $W$. Recall,\n",
    "\n",
    "$$\n",
    "  pV = Nk_BT + W\n",
    "$$\n",
    "\n",
    "where $p$ is the pressure, $V$ is the volume, $N$ is the number of particles, $k$ is the Boltzmann constant and $T$ is the temperature. The volume can be calculated from the box lengths. In Lennard-Jones units boltzmann constant is $k_B = 1$. Below we use this to calculate the pressure."
   ]
  },
  {
   "cell_type": "code",
   "execution_count": null,
   "id": "efefc91dd982ae25",
   "metadata": {
    "ExecuteTime": {
     "end_time": "2025-05-09T07:52:56.446231Z",
     "start_time": "2025-05-09T07:52:56.443876Z"
    }
   },
   "outputs": [],
   "source": [
    "V = sim.configuration.get_volume()  # Volume\n",
    "dof = 3*N - 3  # Degrees of freedom\n",
    "T_kin = 2*K/dof  # Kinetic temperature\n",
    "p = (N*T_kin + W)/V  # Pressure\n",
    "np.mean(p)  # Mean pressure"
   ]
  },
  {
   "cell_type": "markdown",
   "id": "27ad045fdfbc27e3",
   "metadata": {},
   "source": [
    "## Concluding remarks\n",
    "Congratulations! You have now set up and executed your first simulation with `gamdpy`.\n",
    "You are now ready to continue with more advanced simulations and analysis.\n",
    "For this, we recommend looking at the examples."
   ]
  }
 ],
 "metadata": {
  "kernelspec": {
   "display_name": "Python 3 (ipykernel)",
   "language": "python",
   "name": "python3"
  },
  "language_info": {
   "codemirror_mode": {
    "name": "ipython",
    "version": 3
   },
   "file_extension": ".py",
   "mimetype": "text/x-python",
   "name": "python",
   "nbconvert_exporter": "python",
   "pygments_lexer": "ipython3",
   "version": "3.12.7"
  },
  "widgets": {
   "application/vnd.jupyter.widget-state+json": {
    "state": {},
    "version_major": 2,
    "version_minor": 0
   }
  }
 },
 "nbformat": 4,
 "nbformat_minor": 5
}
