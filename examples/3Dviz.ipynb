{
 "cells": [
  {
   "cell_type": "markdown",
   "id": "6e057dd8-0f8a-4732-bd7c-4842ae53b4c7",
   "metadata": {
    "tags": []
   },
   "source": [
    "# 3D Visualization of cooling SC/KA Lennard-Jones with rumdpy "
   ]
  },
  {
   "cell_type": "code",
   "execution_count": 4,
   "id": "77078982-44cc-4750-aff7-0bcee9ad80df",
   "metadata": {
    "tags": []
   },
   "outputs": [],
   "source": [
    "# Reproducing 'ATU' run in phd1:\n",
    "#    LJ, N=864, rho=0.60, cooling from T=3.0 to 0.1 with dt=0.005, \n",
    "#    scalars: every 20'th step, trajectory: 194 log-blocks    \n",
    "#\n",
    "# Timestep:                                        200_000                2_000_000\n",
    "# Rumd3  GTX TITAN,        4.5 TFlops, 288 GB/s, runtime: 56   sec        196   sec ( 121 conf_blocks * 285 Kb)       rumd_rdf: 11.8s, rumd_msd: 6s\n",
    "# Rumd3  RTX 2080 Ti,     11.7 TFlops, 616 GB/s, runtime: 38.9 sec         77.8 sec ( 121 conf_blocks * 285 Kb)       rumd_rdf: 11.8s, rumd_msd: 6s\n",
    "# rumdpy RTX 3070 Laptop, 11.4 TFlops, 448 GB/s, runtime: 10.0 sec (256k)  39.9 sec (1000 conf_blocks * 257/167z Kb)  on-the-fly     ~1s "
   ]
  },
  {
   "cell_type": "markdown",
   "id": "78a567b6-0a7c-42bf-a7b4-89f439314801",
   "metadata": {},
   "source": [
    "## Imports"
   ]
  },
  {
   "cell_type": "code",
   "execution_count": 5,
   "id": "5f60a14e-8956-4db7-8472-55f32208a3ef",
   "metadata": {},
   "outputs": [
    {
     "ename": "SystemError",
     "evalue": "initialization of _internal failed without raising an exception",
     "output_type": "error",
     "traceback": [
      "\u001b[0;31m---------------------------------------------------------------------------\u001b[0m",
      "\u001b[0;31mSystemError\u001b[0m                               Traceback (most recent call last)",
      "Input \u001b[0;32mIn [5]\u001b[0m, in \u001b[0;36m<cell line: 2>\u001b[0;34m()\u001b[0m\n\u001b[1;32m      1\u001b[0m \u001b[38;5;28;01mimport\u001b[39;00m \u001b[38;5;21;01mnumpy\u001b[39;00m \u001b[38;5;28;01mas\u001b[39;00m \u001b[38;5;21;01mnp\u001b[39;00m\n\u001b[0;32m----> 2\u001b[0m \u001b[38;5;28;01mimport\u001b[39;00m \u001b[38;5;21;01mrumdpy\u001b[39;00m \u001b[38;5;28;01mas\u001b[39;00m \u001b[38;5;21;01mrp\u001b[39;00m\n\u001b[1;32m      3\u001b[0m \u001b[38;5;66;03m#import pandas as pd # Can be removed when all saving is moved to class Simulation\u001b[39;00m\n\u001b[1;32m      4\u001b[0m \u001b[38;5;28;01mimport\u001b[39;00m \u001b[38;5;21;01mnumba\u001b[39;00m        \u001b[38;5;66;03m# Can be removed when handling od RDF arrays is moved to class Simulation (or its own class)\u001b[39;00m\n",
      "File \u001b[0;32m~/Python/Projects/rumdpy/rumdpy/__init__.py:3\u001b[0m, in \u001b[0;36m<module>\u001b[0;34m\u001b[0m\n\u001b[1;32m      1\u001b[0m \u001b[38;5;124;03m\"\"\" The rumdpy main module \"\"\"\u001b[39;00m\n\u001b[1;32m      2\u001b[0m \u001b[38;5;66;03m#from .integrators import *\u001b[39;00m\n\u001b[0;32m----> 3\u001b[0m \u001b[38;5;28;01mfrom\u001b[39;00m \u001b[38;5;21;01m.\u001b[39;00m\u001b[38;5;21;01minteractions\u001b[39;00m \u001b[38;5;28;01mimport\u001b[39;00m \u001b[38;5;241m*\u001b[39m\n\u001b[1;32m      4\u001b[0m \u001b[38;5;28;01mfrom\u001b[39;00m \u001b[38;5;21;01m.\u001b[39;00m\u001b[38;5;21;01mpotential_functions\u001b[39;00m \u001b[38;5;28;01mimport\u001b[39;00m \u001b[38;5;241m*\u001b[39m\n\u001b[1;32m      5\u001b[0m \u001b[38;5;28;01mfrom\u001b[39;00m \u001b[38;5;21;01m.\u001b[39;00m\u001b[38;5;21;01mConfiguration\u001b[39;00m \u001b[38;5;28;01mimport\u001b[39;00m \u001b[38;5;241m*\u001b[39m\n",
      "File \u001b[0;32m~/Python/Projects/rumdpy/rumdpy/interactions/__init__.py:1\u001b[0m, in \u001b[0;36m<module>\u001b[0;34m\u001b[0m\n\u001b[0;32m----> 1\u001b[0m \u001b[38;5;28;01mfrom\u001b[39;00m \u001b[38;5;21;01m.\u001b[39;00m\u001b[38;5;21;01mpair_potential\u001b[39;00m \u001b[38;5;28;01mimport\u001b[39;00m \u001b[38;5;241m*\u001b[39m\n\u001b[1;32m      2\u001b[0m \u001b[38;5;28;01mfrom\u001b[39;00m \u001b[38;5;21;01m.\u001b[39;00m\u001b[38;5;21;01madd_interactions\u001b[39;00m \u001b[38;5;28;01mimport\u001b[39;00m \u001b[38;5;241m*\u001b[39m\n\u001b[1;32m      3\u001b[0m \u001b[38;5;28;01mfrom\u001b[39;00m \u001b[38;5;21;01m.\u001b[39;00m\u001b[38;5;21;01mmake_fixed_interactions\u001b[39;00m \u001b[38;5;28;01mimport\u001b[39;00m make_fixed_interactions\n",
      "File \u001b[0;32m~/Python/Projects/rumdpy/rumdpy/interactions/pair_potential.py:2\u001b[0m, in \u001b[0;36m<module>\u001b[0;34m\u001b[0m\n\u001b[1;32m      1\u001b[0m \u001b[38;5;28;01mimport\u001b[39;00m \u001b[38;5;21;01mnumpy\u001b[39;00m \u001b[38;5;28;01mas\u001b[39;00m \u001b[38;5;21;01mnp\u001b[39;00m\n\u001b[0;32m----> 2\u001b[0m \u001b[38;5;28;01mimport\u001b[39;00m \u001b[38;5;21;01mnumba\u001b[39;00m\n\u001b[1;32m      3\u001b[0m \u001b[38;5;28;01mimport\u001b[39;00m \u001b[38;5;21;01mmath\u001b[39;00m\n\u001b[1;32m      4\u001b[0m \u001b[38;5;28;01mfrom\u001b[39;00m \u001b[38;5;21;01mnumba\u001b[39;00m \u001b[38;5;28;01mimport\u001b[39;00m cuda\n",
      "File \u001b[0;32m~/anaconda3/lib/python3.9/site-packages/numba/__init__.py:42\u001b[0m, in \u001b[0;36m<module>\u001b[0;34m\u001b[0m\n\u001b[1;32m     38\u001b[0m \u001b[38;5;28;01mfrom\u001b[39;00m \u001b[38;5;21;01mnumba\u001b[39;00m\u001b[38;5;21;01m.\u001b[39;00m\u001b[38;5;21;01mcore\u001b[39;00m\u001b[38;5;21;01m.\u001b[39;00m\u001b[38;5;21;01mdecorators\u001b[39;00m \u001b[38;5;28;01mimport\u001b[39;00m (cfunc, generated_jit, jit, njit, stencil,\n\u001b[1;32m     39\u001b[0m                                    jit_module)\n\u001b[1;32m     41\u001b[0m \u001b[38;5;66;03m# Re-export vectorize decorators and the thread layer querying function\u001b[39;00m\n\u001b[0;32m---> 42\u001b[0m \u001b[38;5;28;01mfrom\u001b[39;00m \u001b[38;5;21;01mnumba\u001b[39;00m\u001b[38;5;21;01m.\u001b[39;00m\u001b[38;5;21;01mnp\u001b[39;00m\u001b[38;5;21;01m.\u001b[39;00m\u001b[38;5;21;01mufunc\u001b[39;00m \u001b[38;5;28;01mimport\u001b[39;00m (vectorize, guvectorize, threading_layer,\n\u001b[1;32m     43\u001b[0m                             get_num_threads, set_num_threads)\n\u001b[1;32m     45\u001b[0m \u001b[38;5;66;03m# Re-export Numpy helpers\u001b[39;00m\n\u001b[1;32m     46\u001b[0m \u001b[38;5;28;01mfrom\u001b[39;00m \u001b[38;5;21;01mnumba\u001b[39;00m\u001b[38;5;21;01m.\u001b[39;00m\u001b[38;5;21;01mnp\u001b[39;00m\u001b[38;5;21;01m.\u001b[39;00m\u001b[38;5;21;01mnumpy_support\u001b[39;00m \u001b[38;5;28;01mimport\u001b[39;00m carray, farray, from_dtype\n",
      "File \u001b[0;32m~/anaconda3/lib/python3.9/site-packages/numba/np/ufunc/__init__.py:3\u001b[0m, in \u001b[0;36m<module>\u001b[0;34m\u001b[0m\n\u001b[1;32m      1\u001b[0m \u001b[38;5;66;03m# -*- coding: utf-8 -*-\u001b[39;00m\n\u001b[0;32m----> 3\u001b[0m \u001b[38;5;28;01mfrom\u001b[39;00m \u001b[38;5;21;01mnumba\u001b[39;00m\u001b[38;5;21;01m.\u001b[39;00m\u001b[38;5;21;01mnp\u001b[39;00m\u001b[38;5;21;01m.\u001b[39;00m\u001b[38;5;21;01mufunc\u001b[39;00m\u001b[38;5;21;01m.\u001b[39;00m\u001b[38;5;21;01mdecorators\u001b[39;00m \u001b[38;5;28;01mimport\u001b[39;00m Vectorize, GUVectorize, vectorize, guvectorize\n\u001b[1;32m      4\u001b[0m \u001b[38;5;28;01mfrom\u001b[39;00m \u001b[38;5;21;01mnumba\u001b[39;00m\u001b[38;5;21;01m.\u001b[39;00m\u001b[38;5;21;01mnp\u001b[39;00m\u001b[38;5;21;01m.\u001b[39;00m\u001b[38;5;21;01mufunc\u001b[39;00m\u001b[38;5;21;01m.\u001b[39;00m\u001b[38;5;21;01m_internal\u001b[39;00m \u001b[38;5;28;01mimport\u001b[39;00m PyUFunc_None, PyUFunc_Zero, PyUFunc_One\n\u001b[1;32m      5\u001b[0m \u001b[38;5;28;01mfrom\u001b[39;00m \u001b[38;5;21;01mnumba\u001b[39;00m\u001b[38;5;21;01m.\u001b[39;00m\u001b[38;5;21;01mnp\u001b[39;00m\u001b[38;5;21;01m.\u001b[39;00m\u001b[38;5;21;01mufunc\u001b[39;00m \u001b[38;5;28;01mimport\u001b[39;00m _internal, array_exprs\n",
      "File \u001b[0;32m~/anaconda3/lib/python3.9/site-packages/numba/np/ufunc/decorators.py:3\u001b[0m, in \u001b[0;36m<module>\u001b[0;34m\u001b[0m\n\u001b[1;32m      1\u001b[0m \u001b[38;5;28;01mimport\u001b[39;00m \u001b[38;5;21;01minspect\u001b[39;00m\n\u001b[0;32m----> 3\u001b[0m \u001b[38;5;28;01mfrom\u001b[39;00m \u001b[38;5;21;01mnumba\u001b[39;00m\u001b[38;5;21;01m.\u001b[39;00m\u001b[38;5;21;01mnp\u001b[39;00m\u001b[38;5;21;01m.\u001b[39;00m\u001b[38;5;21;01mufunc\u001b[39;00m \u001b[38;5;28;01mimport\u001b[39;00m _internal\n\u001b[1;32m      4\u001b[0m \u001b[38;5;28;01mfrom\u001b[39;00m \u001b[38;5;21;01mnumba\u001b[39;00m\u001b[38;5;21;01m.\u001b[39;00m\u001b[38;5;21;01mnp\u001b[39;00m\u001b[38;5;21;01m.\u001b[39;00m\u001b[38;5;21;01mufunc\u001b[39;00m\u001b[38;5;21;01m.\u001b[39;00m\u001b[38;5;21;01mparallel\u001b[39;00m \u001b[38;5;28;01mimport\u001b[39;00m ParallelUFuncBuilder, ParallelGUFuncBuilder\n\u001b[1;32m      6\u001b[0m \u001b[38;5;28;01mfrom\u001b[39;00m \u001b[38;5;21;01mnumba\u001b[39;00m\u001b[38;5;21;01m.\u001b[39;00m\u001b[38;5;21;01mcore\u001b[39;00m\u001b[38;5;21;01m.\u001b[39;00m\u001b[38;5;21;01mregistry\u001b[39;00m \u001b[38;5;28;01mimport\u001b[39;00m DelayedRegistry\n",
      "\u001b[0;31mSystemError\u001b[0m: initialization of _internal failed without raising an exception"
     ]
    }
   ],
   "source": [
    "import numpy as np\n",
    "import rumdpy as rp\n",
    "#import pandas as pd # Can be removed when all saving is moved to class Simulation\n",
    "import numba        # Can be removed when handling od RDF arrays is moved to class Simulation (or its own class)\n",
    "\n",
    "import matplotlib.pyplot as plt\n",
    "#%matplotlib inline\n",
    "#%matplotlib notebook\n",
    "%matplotlib widget\n"
   ]
  },
  {
   "cell_type": "markdown",
   "id": "9b86d9f7-9a3a-49b1-bac0-d394dbe3963c",
   "metadata": {},
   "source": [
    "## Generate configuration with a FCC lattice"
   ]
  },
  {
   "cell_type": "code",
   "execution_count": 3,
   "id": "ad3974d6-9c2e-436e-878c-8f8df80788e8",
   "metadata": {},
   "outputs": [
    {
     "ename": "NameError",
     "evalue": "name 'rp' is not defined",
     "output_type": "error",
     "traceback": [
      "\u001b[0;31m---------------------------------------------------------------------------\u001b[0m",
      "\u001b[0;31mNameError\u001b[0m                                 Traceback (most recent call last)",
      "Input \u001b[0;32mIn [3]\u001b[0m, in \u001b[0;36m<cell line: 3>\u001b[0;34m()\u001b[0m\n\u001b[1;32m      1\u001b[0m include_KABLJ \u001b[38;5;241m=\u001b[39m \u001b[38;5;28;01mTrue\u001b[39;00m\n\u001b[0;32m----> 3\u001b[0m c1 \u001b[38;5;241m=\u001b[39m \u001b[43mrp\u001b[49m\u001b[38;5;241m.\u001b[39mmake_configuration_fcc(nx\u001b[38;5;241m=\u001b[39m\u001b[38;5;241m6\u001b[39m,  ny\u001b[38;5;241m=\u001b[39m\u001b[38;5;241m6\u001b[39m,  nz\u001b[38;5;241m=\u001b[39m\u001b[38;5;241m6\u001b[39m,  rho\u001b[38;5;241m=\u001b[39m\u001b[38;5;241m0.60\u001b[39m,  T\u001b[38;5;241m=\u001b[39m\u001b[38;5;241m3.44\u001b[39m) \n\u001b[1;32m      4\u001b[0m \u001b[38;5;28;01mif\u001b[39;00m include_KABLJ:\n\u001b[1;32m      5\u001b[0m     c1\u001b[38;5;241m.\u001b[39mptype[::\u001b[38;5;241m5\u001b[39m] \u001b[38;5;241m=\u001b[39m \u001b[38;5;241m1\u001b[39m \u001b[38;5;66;03m# 4:1 mixture\u001b[39;00m\n",
      "\u001b[0;31mNameError\u001b[0m: name 'rp' is not defined"
     ]
    }
   ],
   "source": [
    "include_KABLJ = True\n",
    "\n",
    "c1 = rp.make_configuration_fcc(nx=6,  ny=6,  nz=6,  rho=0.60,  T=3.44) \n",
    "if include_KABLJ:\n",
    "    c1.ptype[::5] = 1 # 4:1 mixture\n",
    "\n",
    "print(f'Number of particles: {c1.N}; Density: {c1.N/np.prod(c1.simbox.lengths):.3f}; B fraction: {np.mean(c1.ptype==1):.3f}')\n"
   ]
  },
  {
   "cell_type": "markdown",
   "id": "b2481f1b-97d1-49f9-9af9-0797c6a04dcb",
   "metadata": {},
   "source": [
    "## Setup Lennard-Jones pair potential"
   ]
  },
  {
   "cell_type": "code",
   "execution_count": 15,
   "id": "4d60ea8a-03dd-4f50-9fc6-4d6b604fcc87",
   "metadata": {},
   "outputs": [],
   "source": [
    "pairfunc = rp.apply_shifted_force_cutoff(rp.LJ_12_6_sigma_epsilon)\n",
    "sig = [[1.00, 0.80],\n",
    "       [0.80, 0.88]]\n",
    "eps = [[1.00, 1.50],\n",
    "       [1.50, 0.50]]\n",
    "cut = np.array(sig)*2.5\n",
    "pairpot = rp.PairPotential2(pairfunc, params=[sig, eps, cut], max_num_nbs=1000)\n",
    "#pairpot.plot(names=['A', 'B'])"
   ]
  },
  {
   "cell_type": "markdown",
   "id": "192e5ab0-7528-404f-88e3-42fef19e6313",
   "metadata": {},
   "source": [
    "## Setup integrator"
   ]
  },
  {
   "cell_type": "code",
   "execution_count": 16,
   "id": "6311fe59-bdc8-469a-9bd8-397827ad1300",
   "metadata": {
    "tags": []
   },
   "outputs": [
    {
     "data": {
      "application/vnd.jupyter.widget-view+json": {
       "model_id": "449a9ab1eb7942759b722ed704c56427",
       "version_major": 2,
       "version_minor": 0
      },
      "image/png": "[encoded data removed]",
      "text/html": [
       "\n",
       "            <div style=\"display: inline-block;\">\n",
       "                <div class=\"jupyter-widgets widget-label\" style=\"text-align: center;\">\n",
       "                    Figure\n",
       "                </div>\n",
       "                <img src='data:image/png;base64,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' width=600.0/>\n",
       "            </div>\n",
       "        "
      ],
      "text/plain": [
       "Canvas(toolbar=Toolbar(toolitems=[('Home', 'Reset original view', 'home', 'home'), ('Back', 'Back to previous …"
      ]
     },
     "metadata": {},
     "output_type": "display_data"
    }
   ],
   "source": [
    "dt = 0.005 # timestep \n",
    "num_blocks = 1000         # Do simulation in this many 'blocks'\n",
    "steps_per_block = 2*1024  # ... each of this many steps\n",
    "running_time = dt*num_blocks*steps_per_block\n",
    "\n",
    "Ttarget_function = rp.make_function_ramp(value0=2.00, x0=running_time*(1/4), \n",
    "                                         value1=0.25, x1=running_time*(3/4))\n",
    "integrator = rp.integrators.NVT(Ttarget_function, tau=0.2, dt=dt)\n",
    "\n",
    "plt.figure(figsize=(6,4))\n",
    "t = np.linspace(0,running_time,num_blocks)\n",
    "plt.plot(t, numba.vectorize(Ttarget_function)(t), '.-')\n",
    "plt.xlabel('Time')\n",
    "plt.ylabel('Ttarget')\n",
    "plt.show()"
   ]
  },
  {
   "cell_type": "markdown",
   "id": "2c5701d6-2a59-4a47-a2a6-133e441745c4",
   "metadata": {},
   "source": [
    "## Run simulation"
   ]
  },
  {
   "cell_type": "code",
   "execution_count": 17,
   "id": "1b47bf2c-17f0-4024-a56a-abcabaafe142",
   "metadata": {},
   "outputs": [
    {
     "name": "stdout",
     "output_type": "stream",
     "text": [
      "\tpb: 8, tp:16, num_blocks:108\n",
      "\tNumber (virtual) particles: 864\n",
      "\tNumber of threads 13824\n",
      "Generating NVT kernel for 864 particles in 3 dimensions:\n",
      "\tpb: 8, tp:16, num_blocks:108\n",
      "\tNumber (virtual) particles: 864\n",
      "\tNumber of threads 13824\n",
      "Configurations per block (log2-storing): 13\n",
      "Storing results in memory. Expected footprint  257.08 MB.\n"
     ]
    }
   ],
   "source": [
    "sim = rp.Simulation(c1, pairpot, integrator, \n",
    "                    num_blocks=num_blocks, steps_per_block=steps_per_block, \n",
    "                    storage='memory')"
   ]
  },
  {
   "cell_type": "markdown",
   "id": "af6dd2d9-b928-479f-ad60-92c21d013eb0",
   "metadata": {
    "tags": []
   },
   "source": [
    "Start by running only part of the simulation. Might be for testing/benchmark/equilibration:"
   ]
  },
  {
   "cell_type": "code",
   "execution_count": 18,
   "id": "a78d1a02-98a4-4c67-bb3f-8cf123e4b8d4",
   "metadata": {},
   "outputs": [
    {
     "name": "stdout",
     "output_type": "stream",
     "text": [
      "0 25 50 75 \n",
      " particles : 864 \n",
      "steps : 204800 \n",
      "nbflag : [    0     0 22318] \n",
      "time : 5.35 s \n",
      "TPS : 3.82e+04\n"
     ]
    }
   ],
   "source": [
    "for block in sim.blocks(num_blocks=100):\n",
    "    if block%25==0:\n",
    "        print(block, end=' ')\n",
    "print('\\n', sim.summary())"
   ]
  },
  {
   "cell_type": "code",
   "execution_count": 8,
   "id": "c2c33608-175f-4edd-b076-2807cb63666a",
   "metadata": {},
   "outputs": [
    {
     "name": "stdout",
     "output_type": "stream",
     "text": [
      "0 25 50 75 \n",
      " particles : 864 \n",
      "steps : 204800 \n",
      "nbflag : [    0     0 44595] \n",
      "time : 3.69 s \n",
      "TPS : 5.55e+04\n"
     ]
    }
   ],
   "source": [
    "for block in sim.blocks(num_blocks=100):\n",
    "    if block%25==0:\n",
    "        print(block, end=' ')\n",
    "print('\\n', sim.summary())"
   ]
  },
  {
   "cell_type": "markdown",
   "id": "acc2ebb9-97ef-4e46-9fa6-1f02a4f7d78d",
   "metadata": {},
   "source": [
    "The difference (~1.5 second) is the time taken on first run to do just-in-time (JIT) compilation to the GPU."
   ]
  },
  {
   "cell_type": "code",
   "execution_count": 19,
   "id": "00e9cddd-0bdf-4892-9149-0d642e5887b3",
   "metadata": {},
   "outputs": [
    {
     "name": "stdout",
     "output_type": "stream",
     "text": [
      "\tpb: 8, tp:16, num_blocks:108\n",
      "\tNumber (virtual) particles: 864\n",
      "\tNumber of threads 13824\n",
      "Generating NVT kernel for 864 particles in 3 dimensions:\n",
      "\tpb: 8, tp:16, num_blocks:108\n",
      "\tNumber (virtual) particles: 864\n",
      "\tNumber of threads 13824\n",
      "Configurations per block (log2-storing): 13\n",
      "Saving results in hdf5 format. Filename: Data/LJ_output.h5\n"
     ]
    }
   ],
   "source": [
    "sim = rp.Simulation(c1, pairpot, integrator, \n",
    "                    num_blocks=num_blocks, steps_per_block=steps_per_block, \n",
    "                    storage='Data/LJ_output.h5')"
   ]
  },
  {
   "cell_type": "code",
   "execution_count": 20,
   "id": "f42f61b9-b9e8-4714-bf02-2870a2a10a1a",
   "metadata": {},
   "outputs": [
    {
     "name": "stdout",
     "output_type": "stream",
     "text": [
      "0 25 50 75 \n",
      " particles : 864 \n",
      "steps : 204800 \n",
      "nbflag : [    0     0 22349] \n",
      "time : 5.46 s \n",
      "TPS : 3.75e+04\n"
     ]
    }
   ],
   "source": [
    "for block in sim.blocks(num_blocks=100):\n",
    "    if block%25==0:\n",
    "        print(block, end=' ')\n",
    "print('\\n', sim.summary())"
   ]
  },
  {
   "cell_type": "markdown",
   "id": "ee058639-5ce3-4b78-aefb-d8b41f2f831e",
   "metadata": {},
   "source": [
    "## Run with 3D visualization"
   ]
  },
  {
   "cell_type": "code",
   "execution_count": 21,
   "id": "8f2a4541-2d63-4e97-a76a-711fca0126f0",
   "metadata": {},
   "outputs": [
    {
     "data": {
      "application/vnd.jupyter.widget-view+json": {
       "model_id": "ca1f28cadcb942c3b976db366f5e34e3",
       "version_major": 2,
       "version_minor": 0
      },
      "text/plain": [
       "Output()"
      ]
     },
     "metadata": {},
     "output_type": "display_data"
    },
    {
     "data": {
      "application/vnd.jupyter.widget-view+json": {
       "model_id": "658f821bf8024523ae6a7e49f86ed5f3",
       "version_major": 2,
       "version_minor": 0
      },
      "text/plain": [
       "HBox(children=(Play(value=999, description='Press play', interval=0, max=999), IntSlider(value=0, description=…"
      ]
     },
     "metadata": {},
     "output_type": "display_data"
    },
    {
     "name": "stdout",
     "output_type": "stream",
     "text": [
      "\n",
      " particles : 864 \n",
      "steps : 2048000 \n",
      "nbflag : [     0      0 176643] \n",
      "time : 41.53 s \n",
      "TPS : 4.93e+04\n"
     ]
    }
   ],
   "source": [
    "from rumdpy.visualization import k3d_Visualization # Requires the 'k3d' package\n",
    "\n",
    "viz = k3d_Visualization(sim)\n",
    "viz.display()\n",
    "for block in sim.blocks(1000):\n",
    "    viz.update(block, choice=0)\n",
    "viz.display_player()\n",
    "print('\\n', sim.summary())"
   ]
  },
  {
   "cell_type": "code",
   "execution_count": null,
   "id": "1159cc37-7782-4520-a77b-e6a67598f29b",
   "metadata": {},
   "outputs": [],
   "source": []
  }
 ],
 "metadata": {
  "kernelspec": {
   "display_name": "Python 3 (ipykernel)",
   "language": "python",
   "name": "python3"
  },
  "language_info": {
   "codemirror_mode": {
    "name": "ipython",
    "version": 3
   },
   "file_extension": ".py",
   "mimetype": "text/x-python",
   "name": "python",
   "nbconvert_exporter": "python",
   "pygments_lexer": "ipython3",
   "version": "3.9.12"
  },
  "toc-autonumbering": false,
  "toc-showcode": false,
  "toc-showmarkdowntxt": false
 },
 "nbformat": 4,
 "nbformat_minor": 5
}
