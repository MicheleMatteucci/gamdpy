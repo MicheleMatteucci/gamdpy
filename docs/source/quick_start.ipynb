{
 "cells": [
  {
   "cell_type": "markdown",
   "id": "39798053e938702d",
   "metadata": {
    "collapsed": false
   },
   "source": [
    "# Quick start\n",
    "\n",
    "Minimal example of a Simulation using rumdpy.\n",
    "Simulation of a Lennard-Jones crystal in the NVT ensemble.\n"
   ]
  },
  {
   "cell_type": "code",
   "execution_count": 1,
   "id": "813a39221147cfa2",
   "metadata": {
    "ExecuteTime": {
     "end_time": "2024-05-13T12:06:53.677967Z",
     "start_time": "2024-05-13T12:06:14.419386Z"
    }
   },
   "outputs": [
    {
     "name": "stdout",
     "output_type": "stream",
     "text": [
      "num_steps:  32768\n",
      "num_blocks:  32\n",
      "steps_per_block:  1024\n",
      "time= 0.000     u= -5.812    w= 1.385     lap= 991.124   m= 1.000     k= 1.050     fsq= 714.472   \n",
      "time= 5.120     u= -5.838    w= 1.227     lap= 977.830   m= 1.000     k= 1.058     fsq= 702.570   \n",
      "time= 10.240    u= -5.815    w= 1.372     lap= 989.548   m= 1.000     k= 1.081     fsq= 678.586   \n",
      "time= 15.360    u= -5.828    w= 1.289     lap= 982.958   m= 1.000     k= 1.079     fsq= 668.190   \n",
      "time= 20.480    u= -5.793    w= 1.490     lap= 1000.222  m= 1.000     k= 1.038     fsq= 730.573   \n",
      "time= 25.600    u= -5.836    w= 1.233     lap= 978.191   m= 1.000     k= 1.037     fsq= 678.068   \n",
      "time= 30.720    u= -5.817    w= 1.348     lap= 987.947   m= 1.000     k= 1.081     fsq= 685.868   \n",
      "time= 35.840    u= -5.807    w= 1.402     lap= 992.316   m= 1.000     k= 1.079     fsq= 687.477   \n",
      "time= 40.960    u= -5.783    w= 1.540     lap= 1003.724  m= 1.000     k= 1.076     fsq= 701.752   \n",
      "time= 46.080    u= -5.796    w= 1.457     lap= 997.331   m= 1.000     k= 1.066     fsq= 728.317   \n",
      "time= 51.200    u= -5.816    w= 1.363     lap= 989.119   m= 1.000     k= 1.030     fsq= 700.226   \n",
      "time= 56.320    u= -5.813    w= 1.376     lap= 989.884   m= 1.000     k= 1.051     fsq= 680.562   \n",
      "time= 61.440    u= -5.843    w= 1.197     lap= 974.850   m= 1.000     k= 1.061     fsq= 659.230   \n",
      "time= 66.560    u= -5.816    w= 1.363     lap= 989.133   m= 1.000     k= 1.064     fsq= 701.897   \n",
      "time= 71.680    u= -5.820    w= 1.338     lap= 986.514   m= 1.000     k= 1.070     fsq= 666.465   \n",
      "time= 76.800    u= -5.803    w= 1.431     lap= 994.872   m= 1.000     k= 1.039     fsq= 719.789   \n",
      "time= 81.920    u= -5.835    w= 1.232     lap= 978.482   m= 1.000     k= 1.016     fsq= 705.706   \n",
      "time= 87.040    u= -5.808    w= 1.385     lap= 991.268   m= 1.000     k= 1.081     fsq= 737.546   \n",
      "time= 92.160    u= -5.803    w= 1.421     lap= 994.039   m= 1.000     k= 1.045     fsq= 705.400   \n",
      "time= 97.280    u= -5.811    w= 1.385     lap= 991.451   m= 1.000     k= 1.059     fsq= 726.994   \n",
      "time= 102.400   u= -5.801    w= 1.442     lap= 996.370   m= 1.000     k= 1.069     fsq= 731.876   \n",
      "time= 107.520   u= -5.784    w= 1.527     lap= 1003.128  m= 1.000     k= 1.074     fsq= 725.094   \n",
      "time= 112.640   u= -5.855    w= 1.135     lap= 969.908   m= 1.000     k= 1.075     fsq= 659.479   \n",
      "time= 117.760   u= -5.830    w= 1.296     lap= 983.247   m= 1.000     k= 1.062     fsq= 656.886   \n",
      "time= 122.880   u= -5.796    w= 1.461     lap= 997.881   m= 1.000     k= 1.030     fsq= 733.766   \n",
      "time= 128.000   u= -5.794    w= 1.464     lap= 997.721   m= 1.000     k= 1.062     fsq= 710.965   \n",
      "time= 133.120   u= -5.789    w= 1.499     lap= 1000.818  m= 1.000     k= 1.058     fsq= 721.856   \n",
      "time= 138.240   u= -5.799    w= 1.462     lap= 997.356   m= 1.000     k= 1.080     fsq= 707.333   \n",
      "time= 143.360   u= -5.828    w= 1.291     lap= 982.999   m= 1.000     k= 1.039     fsq= 684.368   \n",
      "time= 148.480   u= -5.804    w= 1.427     lap= 994.650   m= 1.000     k= 1.035     fsq= 692.905   \n",
      "time= 153.600   u= -5.804    w= 1.415     lap= 993.753   m= 1.000     k= 1.048     fsq= 706.980   \n",
      "time= 158.720   u= -5.826    w= 1.293     lap= 983.232   m= 1.000     k= 1.061     fsq= 669.900   \n",
      "particles : 2048 \n",
      "steps : 32768 \n",
      "nbflag : [   0    0 2142] \n",
      "time : 2.97 s \n",
      "TPS : 1.10e+04\n"
     ]
    }
   ],
   "source": [
    "import rumdpy as rp\n",
    "\n",
    "# Setup configuration: FCC Lattice\n",
    "configuration = rp.make_configuration_fcc(nx=8, ny=8, nz=8, rho=0.973, T=0.8 * 2)\n",
    "\n",
    "# Setup pair potential: Single component 12-6 Lennard-Jones\n",
    "pairfunc = rp.apply_shifted_force_cutoff(rp.LJ_12_6_sigma_epsilon)\n",
    "sig, eps, cut = 1.0, 1.0, 2.5\n",
    "pairpot = rp.PairPotential2(pairfunc, params=[sig, eps, cut], max_num_nbs=1000)\n",
    "\n",
    "# Setup integrator: NVT\n",
    "integrator = rp.integrators.NVT(temperature=0.70, tau=0.2, dt=0.005)\n",
    "\n",
    "# Setup Simulation. \n",
    "sim = rp.Simulation(configuration, pairpot, integrator,\n",
    "                    num_steps = 32*1024, storage='LJ_T0.70.h5')\n",
    "\n",
    "# Run simulation\n",
    "sim.run()"
   ]
  }
 ],
 "metadata": {
  "kernelspec": {
   "display_name": "Python 3",
   "language": "python",
   "name": "python3"
  },
  "language_info": {
   "codemirror_mode": {
    "name": "ipython",
    "version": 3
   },
   "file_extension": ".py",
   "mimetype": "text/x-python",
   "name": "python",
   "nbconvert_exporter": "python",
   "pygments_lexer": "ipython3",
   "version": "3.9.12"
  }
 },
 "nbformat": 4,
 "nbformat_minor": 5
}
