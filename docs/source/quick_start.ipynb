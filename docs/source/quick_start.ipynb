{
 "cells": [
  {
   "cell_type": "markdown",
   "source": [
    "# Quick start\n",
    "\n",
    "Minimal example of a Simulation using rumdpy.\n",
    "Simulation of a Lennard-Jones crystal in the NVT ensemble.\n"
   ],
   "metadata": {
    "collapsed": false
   },
   "id": "39798053e938702d"
  },
  {
   "cell_type": "code",
   "outputs": [
    {
     "name": "stdout",
     "output_type": "stream",
     "text": [
      "{'pb': 256, 'tp': 1, 'skin': 0.5, 'UtilizeNIII': False, 'gridsync': False}\n",
      "Configurations per block (log2-storing): 13\n",
      "Saving results in hdf5 format. Filename: LJ_T0.70.h5\n"
     ]
    },
    {
     "name": "stderr",
     "output_type": "stream",
     "text": [
      "/srv/urp/PycharmProjects/rumdpy-dev/venv/lib/python3.11/site-packages/numba/cuda/dispatcher.py:536: NumbaPerformanceWarning: Grid size 8 will likely result in GPU under-utilization due to low occupancy.\n",
      "  warn(NumbaPerformanceWarning(msg))\n",
      "/srv/urp/PycharmProjects/rumdpy-dev/venv/lib/python3.11/site-packages/numba/cuda/dispatcher.py:536: NumbaPerformanceWarning: Grid size 8 will likely result in GPU under-utilization due to low occupancy.\n",
      "  warn(NumbaPerformanceWarning(msg))\n",
      "/srv/urp/PycharmProjects/rumdpy-dev/venv/lib/python3.11/site-packages/numba/cuda/dispatcher.py:536: NumbaPerformanceWarning: Grid size 8 will likely result in GPU under-utilization due to low occupancy.\n",
      "  warn(NumbaPerformanceWarning(msg))\n",
      "/srv/urp/PycharmProjects/rumdpy-dev/venv/lib/python3.11/site-packages/numba/cuda/dispatcher.py:536: NumbaPerformanceWarning: Grid size 8 will likely result in GPU under-utilization due to low occupancy.\n",
      "  warn(NumbaPerformanceWarning(msg))\n",
      "/srv/urp/PycharmProjects/rumdpy-dev/venv/lib/python3.11/site-packages/numba/cuda/dispatcher.py:536: NumbaPerformanceWarning: Grid size 8 will likely result in GPU under-utilization due to low occupancy.\n",
      "  warn(NumbaPerformanceWarning(msg))\n",
      "/srv/urp/PycharmProjects/rumdpy-dev/venv/lib/python3.11/site-packages/numba/cuda/dispatcher.py:536: NumbaPerformanceWarning: Grid size 1 will likely result in GPU under-utilization due to low occupancy.\n",
      "  warn(NumbaPerformanceWarning(msg))\n",
      "/srv/urp/PycharmProjects/rumdpy-dev/venv/lib/python3.11/site-packages/numba/cuda/dispatcher.py:536: NumbaPerformanceWarning: Grid size 8 will likely result in GPU under-utilization due to low occupancy.\n",
      "  warn(NumbaPerformanceWarning(msg))\n"
     ]
    },
    {
     "name": "stdout",
     "output_type": "stream",
     "text": [
      "\n",
      "time= 0.000      u= -5.850     w= 1.173      lap= 972.246    m= 1.000      k= 1.037      fsq= 623.794    \n",
      "time= 10.240     u= -5.859     w= 1.145      lap= 970.307    m= 1.000      k= 1.034      fsq= 633.770    \n",
      "time= 20.480     u= -5.820     w= 1.325      lap= 985.551    m= 1.000      k= 1.044      fsq= 685.535    \n",
      "time= 30.720     u= -5.791     w= 1.487      lap= 999.952    m= 1.000      k= 1.095      fsq= 754.021    \n",
      "time= 40.960     u= -5.824     w= 1.314      lap= 984.763    m= 1.000      k= 1.043      fsq= 658.522    \n",
      "time= 51.200     u= -5.827     w= 1.295      lap= 983.670    m= 1.000      k= 1.068      fsq= 691.621    \n",
      "time= 61.440     u= -5.855     w= 1.149      lap= 970.939    m= 1.000      k= 1.047      fsq= 654.931    \n",
      "time= 71.680     u= -5.801     w= 1.449      lap= 996.474    m= 1.000      k= 1.011      fsq= 720.669    \n",
      "time= 81.920     u= -5.815     w= 1.366      lap= 989.580    m= 1.000      k= 1.053      fsq= 697.791    \n",
      "time= 92.160     u= -5.841     w= 1.218      lap= 976.692    m= 1.000      k= 1.057      fsq= 655.004    \n",
      "time= 102.400    u= -5.824     w= 1.318      lap= 985.133    m= 1.000      k= 1.073      fsq= 683.756    \n",
      "time= 112.640    u= -5.809     w= 1.400      lap= 992.287    m= 1.000      k= 1.026      fsq= 704.460    \n",
      "time= 122.880    u= -5.855     w= 1.162      lap= 971.722    m= 1.000      k= 1.060      fsq= 635.563    \n",
      "time= 133.120    u= -5.823     w= 1.314      lap= 985.026    m= 1.000      k= 1.013      fsq= 686.407    \n",
      "time= 143.360    u= -5.830     w= 1.281      lap= 982.010    m= 1.000      k= 1.047      fsq= 671.182    \n",
      "time= 153.600    u= -5.797     w= 1.454      lap= 997.009    m= 1.000      k= 1.046      fsq= 712.657    \n",
      "\n",
      "steps : 32768\n",
      "nbflag :  [   0    0 2137]\n",
      "time : 35.844703125 s\n",
      "TPS :  914.1657523492182\n"
     ]
    }
   ],
   "source": [
    "import rumdpy as rp\n",
    "\n",
    "# Setup fcc configuration\n",
    "configuration = rp.make_configuration_fcc(nx=8, ny=8, nz=8, rho=0.973, T=0.8 * 2)\n",
    "\n",
    "# Setup pair potential.\n",
    "compute_plan = rp.get_default_compute_plan(configuration) # avoid\n",
    "pairpot_func = rp.apply_shifted_force_cutoff(rp.LJ_12_6)\n",
    "params = [[[4.0, -4.0, 2.5], ], ]\n",
    "pair_potential = rp.PairPotential(configuration, pairpot_func, exclusions=None, params=params, max_num_nbs=1000, compute_plan=compute_plan)\n",
    "\n",
    "# Setup integrator\n",
    "integrator = rp.integrators.NVT(temperature=0.70, tau=0.2, dt=0.005)\n",
    "\n",
    "# Setup Simulation. Total number of timesteps: num_blocks * steps_per_block\n",
    "num_blocks = 16\n",
    "steps_per_block = 1024*2\n",
    "sim = rp.Simulation(configuration, pair_potential, integrator, num_blocks, steps_per_block, storage='LJ_T0.70.h5') \n",
    "\n",
    "# Run Simulation\n",
    "for block in sim.run_blocks():\n",
    "    sim.print_status(per_particle=True)\n",
    "sim.print_summary()"
   ],
   "metadata": {
    "collapsed": false,
    "ExecuteTime": {
     "end_time": "2024-02-08T13:21:14.447571844Z",
     "start_time": "2024-02-08T13:20:36.282767300Z"
    }
   },
   "id": "5ac89c6bd2157af9",
   "execution_count": 1
  }
 ],
 "metadata": {
  "kernelspec": {
   "display_name": "Python 3",
   "language": "python",
   "name": "python3"
  },
  "language_info": {
   "codemirror_mode": {
    "name": "ipython",
    "version": 2
   },
   "file_extension": ".py",
   "mimetype": "text/x-python",
   "name": "python",
   "nbconvert_exporter": "python",
   "pygments_lexer": "ipython2",
   "version": "2.7.6"
  }
 },
 "nbformat": 4,
 "nbformat_minor": 5
}
