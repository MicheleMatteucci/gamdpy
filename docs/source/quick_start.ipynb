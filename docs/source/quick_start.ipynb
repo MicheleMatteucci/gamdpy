{
 "cells": [
  {
   "cell_type": "markdown",
   "source": [
    "# Quick start\n",
    "\n",
    "Minimal example of a Simulation using rumdpy.\n",
    "Simulation of a Lennard-Jones crystal in the NVT ensemble.\n"
   ],
   "metadata": {
    "collapsed": false
   },
   "id": "39798053e938702d"
  },
  {
   "cell_type": "code",
   "outputs": [
    {
     "name": "stdout",
     "output_type": "stream",
     "text": [
      "{'pb': 16, 'tp': 8, 'skin': 0.5, 'UtilizeNIII': False, 'gridsync': True}\n",
      "Configurations per block (log2-storing): 13\n",
      "Saving results in hdf5 format. Filename: LJ_T0.70.h5\n",
      "\n",
      "time= 0.000      u= -5.846     w= 1.195      lap= 974.332    m= 1.000      k= 1.055      fsq= 641.522    \n",
      "time= 10.240     u= -5.844     w= 1.205      lap= 975.743    m= 1.000      k= 1.068      fsq= 663.927    \n",
      "time= 20.480     u= -5.813     w= 1.365      lap= 989.480    m= 1.000      k= 1.024      fsq= 701.138    \n",
      "time= 30.720     u= -5.844     w= 1.208      lap= 975.776    m= 1.000      k= 1.062      fsq= 650.331    \n",
      "time= 40.960     u= -5.807     w= 1.414      lap= 993.317    m= 1.000      k= 1.032      fsq= 696.460    \n",
      "time= 51.200     u= -5.838     w= 1.224      lap= 977.192    m= 1.000      k= 1.048      fsq= 666.101    \n",
      "time= 61.440     u= -5.814     w= 1.370      lap= 989.862    m= 1.000      k= 1.068      fsq= 695.933    \n",
      "time= 71.680     u= -5.835     w= 1.260      lap= 980.258    m= 1.000      k= 1.024      fsq= 671.356    \n",
      "time= 81.920     u= -5.845     w= 1.208      lap= 975.796    m= 1.000      k= 1.056      fsq= 655.833    \n",
      "time= 92.160     u= -5.839     w= 1.243      lap= 979.067    m= 1.000      k= 1.033      fsq= 669.834    \n",
      "time= 102.400    u= -5.803     w= 1.421      lap= 994.133    m= 1.000      k= 1.032      fsq= 702.704    \n",
      "time= 112.640    u= -5.816     w= 1.356      lap= 988.428    m= 1.000      k= 1.052      fsq= 698.170    \n",
      "time= 122.880    u= -5.846     w= 1.192      lap= 974.207    m= 1.000      k= 1.036      fsq= 653.271    \n",
      "time= 133.120    u= -5.823     w= 1.334      lap= 986.594    m= 1.000      k= 1.056      fsq= 674.820    \n",
      "time= 143.360    u= -5.845     w= 1.195      lap= 974.970    m= 1.000      k= 1.047      fsq= 660.349    \n",
      "time= 153.600    u= -5.805     w= 1.418      lap= 993.927    m= 1.000      k= 1.080      fsq= 690.852    \n",
      "\n",
      "steps : 32768\n",
      "nbflag :  [   0    0 2139]\n",
      "time : 2.414865478515625 s\n",
      "TPS :  13569.285863551253\n"
     ]
    }
   ],
   "source": [
    "import rumdpy as rp\n",
    "\n",
    "# Setup fcc configuration\n",
    "configuration = rp.make_configuration_fcc(nx=8, ny=8, nz=8, rho=0.973, T=0.8 * 2)\n",
    "\n",
    "# Setup pair potential.\n",
    "compute_plan = rp.get_default_compute_plan(configuration) # avoid\n",
    "pairpot_func = rp.apply_shifted_force_cutoff(rp.LJ_12_6)\n",
    "params = [[[4.0, -4.0, 2.5], ], ]\n",
    "pair_potential = rp.PairPotential(configuration, pairpot_func, exclusions=None, params=params, max_num_nbs=1000, compute_plan=compute_plan)\n",
    "\n",
    "# Setup integrator\n",
    "integrator = rp.integrators.NVT(temperature=0.70, tau=0.2, dt=0.005)\n",
    "\n",
    "# Setup Simulation. Total number of timesteps: num_blocks * steps_per_block\n",
    "num_blocks = 16\n",
    "steps_per_block = 1024*2\n",
    "sim = rp.Simulation(configuration, pair_potential, integrator, num_blocks, steps_per_block, storage='LJ_T0.70.h5') \n",
    "\n",
    "# Run Simulation\n",
    "for block in sim.run_blocks():\n",
    "    sim.print_status(per_particle=True)\n",
    "sim.print_summary()"
   ],
   "metadata": {
    "collapsed": false,
    "ExecuteTime": {
     "end_time": "2024-02-08T14:13:08.166202831Z",
     "start_time": "2024-02-08T14:13:05.727248195Z"
    }
   },
   "id": "5ac89c6bd2157af9",
   "execution_count": 2
  }
 ],
 "metadata": {
  "kernelspec": {
   "display_name": "Python 3",
   "language": "python",
   "name": "python3"
  },
  "language_info": {
   "codemirror_mode": {
    "name": "ipython",
    "version": 2
   },
   "file_extension": ".py",
   "mimetype": "text/x-python",
   "name": "python",
   "nbconvert_exporter": "python",
   "pygments_lexer": "ipython2",
   "version": "2.7.6"
  }
 },
 "nbformat": 4,
 "nbformat_minor": 5
}
