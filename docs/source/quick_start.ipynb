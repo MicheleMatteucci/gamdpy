{
 "cells": [
  {
   "cell_type": "markdown",
   "source": [
    "# Quick start\n",
    "\n",
    "Minimal example of a Simulation using rumdpy.\n",
    "Simulation of a Lennard-Jones crystal in the NVT ensemble.\n"
   ],
   "metadata": {
    "collapsed": false
   },
   "id": "39798053e938702d"
  },
  {
   "metadata": {
    "ExecuteTime": {
     "end_time": "2024-05-13T12:06:53.677967Z",
     "start_time": "2024-05-13T12:06:14.419386Z"
    }
   },
   "cell_type": "code",
   "source": [
    "import rumdpy as rp\n",
    "\n",
    "# Setup configuration: FCC Lattice\n",
    "configuration = rp.make_configuration_fcc(nx=8, ny=8, nz=8, rho=0.973, T=0.8 * 2)\n",
    "\n",
    "# Setup pair potential: Single component 12-6 Lennard-Jones\n",
    "pairfunc = rp.apply_shifted_force_cutoff(rp.LJ_12_6_sigma_epsilon)\n",
    "sig, eps, cut = 1.0, 1.0, 2.5\n",
    "pairpot = rp.PairPotential2(pairfunc, params=[sig, eps, cut], max_num_nbs=1000)\n",
    "\n",
    "# Setup integrator: NVT\n",
    "integrator = rp.integrators.NVT(temperature=0.70, tau=0.2, dt=0.005)\n",
    "\n",
    "# Setup Simulation. \n",
    "sim = rp.Simulation(configuration, pairpot, integrator,\n",
    "                    num_steps = 32*1024, storage='LJ_T0.70.h5')\n",
    "\n",
    "# Run simulation\n",
    "sim.run()"
   ],
   "id": "813a39221147cfa2",
   "outputs": [
    {
     "name": "stdout",
     "output_type": "stream",
     "text": [
      "\tpb: 256, tp:1, num_blocks:8\n",
      "\tNumber (virtual) particles: 2048\n",
      "\tNumber of threads 2048\n",
      "Generating NVT kernel for 2048 particles in 3 dimensions:\n",
      "\tpb: 256, tp:1, num_blocks:8\n",
      "\tNumber (virtual) particles: 2048\n",
      "\tNumber of threads 2048\n",
      "num_steps:  32768\n",
      "num_blocks:  32\n",
      "steps_per_block:  1024\n",
      "Configurations per block (log2-storing): 12\n",
      "Saving results in hdf5 format. Filename: LJ_T0.70.h5\n"
     ]
    },
    {
     "name": "stderr",
     "output_type": "stream",
     "text": [
      "/usr/lib/python3/dist-packages/numba/cuda/dispatcher.py:536: NumbaPerformanceWarning: \u001B[1mGrid size 8 will likely result in GPU under-utilization due to low occupancy.\u001B[0m\n",
      "  warn(NumbaPerformanceWarning(msg))\n",
      "/usr/lib/python3/dist-packages/numba/cuda/dispatcher.py:536: NumbaPerformanceWarning: \u001B[1mGrid size 8 will likely result in GPU under-utilization due to low occupancy.\u001B[0m\n",
      "  warn(NumbaPerformanceWarning(msg))\n",
      "/usr/lib/python3/dist-packages/numba/cuda/dispatcher.py:536: NumbaPerformanceWarning: \u001B[1mGrid size 8 will likely result in GPU under-utilization due to low occupancy.\u001B[0m\n",
      "  warn(NumbaPerformanceWarning(msg))\n",
      "/usr/lib/python3/dist-packages/numba/cuda/dispatcher.py:536: NumbaPerformanceWarning: \u001B[1mGrid size 8 will likely result in GPU under-utilization due to low occupancy.\u001B[0m\n",
      "  warn(NumbaPerformanceWarning(msg))\n",
      "/usr/lib/python3/dist-packages/numba/cuda/dispatcher.py:536: NumbaPerformanceWarning: \u001B[1mGrid size 8 will likely result in GPU under-utilization due to low occupancy.\u001B[0m\n",
      "  warn(NumbaPerformanceWarning(msg))\n",
      "/usr/lib/python3/dist-packages/numba/cuda/dispatcher.py:536: NumbaPerformanceWarning: \u001B[1mGrid size 1 will likely result in GPU under-utilization due to low occupancy.\u001B[0m\n",
      "  warn(NumbaPerformanceWarning(msg))\n",
      "/usr/lib/python3/dist-packages/numba/cuda/dispatcher.py:536: NumbaPerformanceWarning: \u001B[1mGrid size 8 will likely result in GPU under-utilization due to low occupancy.\u001B[0m\n",
      "  warn(NumbaPerformanceWarning(msg))\n"
     ]
    },
    {
     "name": "stdout",
     "output_type": "stream",
     "text": [
      "time= 0.000     u= -5.820    w= 1.338     lap= 986.952   m= 1.000     k= 1.058     fsq= 670.345   \n",
      "time= 5.120     u= -5.819    w= 1.349     lap= 987.896   m= 1.000     k= 1.047     fsq= 690.559   \n",
      "time= 10.240    u= -5.840    w= 1.237     lap= 978.314   m= 1.000     k= 1.065     fsq= 668.772   \n",
      "time= 15.360    u= -5.811    w= 1.386     lap= 991.233   m= 1.000     k= 1.046     fsq= 693.454   \n",
      "time= 20.480    u= -5.802    w= 1.440     lap= 995.603   m= 1.000     k= 1.039     fsq= 701.536   \n",
      "time= 25.600    u= -5.826    w= 1.297     lap= 983.543   m= 1.000     k= 1.086     fsq= 681.655   \n",
      "time= 30.720    u= -5.818    w= 1.368     lap= 989.423   m= 1.000     k= 1.049     fsq= 692.521   \n",
      "time= 35.840    u= -5.793    w= 1.478     lap= 998.785   m= 1.000     k= 1.052     fsq= 710.131   \n",
      "time= 40.960    u= -5.819    w= 1.332     lap= 986.547   m= 1.000     k= 1.038     fsq= 696.075   \n",
      "time= 46.080    u= -5.837    w= 1.235     lap= 978.303   m= 1.000     k= 1.046     fsq= 673.289   \n",
      "time= 51.200    u= -5.831    w= 1.255     lap= 980.094   m= 1.000     k= 1.046     fsq= 692.050   \n",
      "time= 56.320    u= -5.814    w= 1.366     lap= 989.179   m= 1.000     k= 1.043     fsq= 671.187   \n",
      "time= 61.440    u= -5.815    w= 1.353     lap= 988.146   m= 1.000     k= 1.077     fsq= 686.060   \n",
      "time= 66.560    u= -5.813    w= 1.375     lap= 990.213   m= 1.000     k= 1.079     fsq= 688.300   \n",
      "time= 71.680    u= -5.823    w= 1.318     lap= 985.017   m= 1.000     k= 1.040     fsq= 682.952   \n",
      "time= 76.800    u= -5.839    w= 1.230     lap= 978.176   m= 1.000     k= 1.064     fsq= 684.132   \n",
      "time= 81.920    u= -5.787    w= 1.509     lap= 1002.061  m= 1.000     k= 1.078     fsq= 741.507   \n",
      "time= 87.040    u= -5.840    w= 1.245     lap= 978.982   m= 1.000     k= 1.071     fsq= 664.571   \n",
      "time= 92.160    u= -5.810    w= 1.393     lap= 991.765   m= 1.000     k= 1.041     fsq= 699.592   \n",
      "time= 97.280    u= -5.806    w= 1.411     lap= 993.064   m= 1.000     k= 1.004     fsq= 698.848   \n",
      "time= 102.400   u= -5.838    w= 1.234     lap= 978.316   m= 1.000     k= 1.013     fsq= 669.214   \n",
      "time= 107.520   u= -5.805    w= 1.416     lap= 993.327   m= 1.000     k= 1.036     fsq= 694.376   \n",
      "time= 112.640   u= -5.833    w= 1.270     lap= 981.502   m= 1.000     k= 1.061     fsq= 683.567   \n",
      "time= 117.760   u= -5.812    w= 1.374     lap= 990.424   m= 1.000     k= 1.065     fsq= 718.099   \n",
      "time= 122.880   u= -5.805    w= 1.434     lap= 995.373   m= 1.000     k= 1.042     fsq= 718.933   \n",
      "time= 128.000   u= -5.811    w= 1.380     lap= 990.865   m= 1.000     k= 1.026     fsq= 708.636   \n",
      "time= 133.120   u= -5.828    w= 1.310     lap= 984.842   m= 1.000     k= 1.079     fsq= 693.087   \n",
      "time= 138.240   u= -5.785    w= 1.533     lap= 1003.288  m= 1.000     k= 1.025     fsq= 708.356   \n",
      "time= 143.360   u= -5.826    w= 1.307     lap= 984.054   m= 1.000     k= 1.049     fsq= 667.117   \n",
      "time= 148.480   u= -5.831    w= 1.291     lap= 982.716   m= 1.000     k= 1.048     fsq= 662.724   \n",
      "time= 153.600   u= -5.812    w= 1.372     lap= 989.959   m= 1.000     k= 1.057     fsq= 696.628   \n",
      "time= 158.720   u= -5.831    w= 1.274     lap= 981.806   m= 1.000     k= 1.031     fsq= 690.422   \n",
      "particles : 2048 \n",
      "steps : 32768 \n",
      "nbflag : [   0    0 2133] \n",
      "time : 36.07 s \n",
      "TPS : 9.08e+02\n"
     ]
    }
   ],
   "execution_count": 1
  }
 ],
 "metadata": {
  "kernelspec": {
   "display_name": "Python 3",
   "language": "python",
   "name": "python3"
  },
  "language_info": {
   "codemirror_mode": {
    "name": "ipython",
    "version": 2
   },
   "file_extension": ".py",
   "mimetype": "text/x-python",
   "name": "python",
   "nbconvert_exporter": "python",
   "pygments_lexer": "ipython2",
   "version": "2.7.6"
  }
 },
 "nbformat": 4,
 "nbformat_minor": 5
}
